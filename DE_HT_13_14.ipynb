{
    "metadata": {
        "kernelspec": {
            "name": "python3",
            "display_name": "Python 3 (ipykernel)",
            "language": "python"
        },
        "language_info": {
            "name": "python",
            "version": "3.8.10",
            "mimetype": "text/x-python",
            "codemirror_mode": {
                "name": "ipython",
                "version": 3
            },
            "pygments_lexer": "ipython3",
            "nbconvert_exporter": "python",
            "file_extension": ".py"
        }
    },
    "nbformat_minor": 2,
    "nbformat": 4,
    "cells": [
        {
            "cell_type": "markdown",
            "source": [
                "Я внимательно ознакомился с условиями, и ознакомился с условиями- запретов для использования датафрейм из Pandas нет, а он, по моему мнению является наиболее удобным как с точки зрения аналитики, так и количества имеющихся данных(спарк точно не нужен)\n",
                "\n",
                "Для каждой задачи я вывожу результат отдельно, затем, в конце, вывожу общий свод, как указано в требованиях.\n",
                "\n",
                "Цифра общей выручки не такая как указано в примере, но я перепроверил, у меня получается именно 23.5"
            ],
            "metadata": {
                "language": "python",
                "azdata_cell_guid": "d3917a32-ea8a-4d61-9634-24c543133371"
            },
            "attachments": {}
        },
        {
            "cell_type": "code",
            "source": [
                "import pandas as pd \r\n",
                "# создаю датафрейм\r\n",
                "\r\n",
                "purchases = [\r\n",
                "    {\"item\": \"apple\", \"category\": \"fruit\", \"price\": 1.2, \"quantity\": 10},\r\n",
                "    {\"item\": \"banana\", \"category\": \"fruit\", \"price\": 0.5, \"quantity\": 5},\r\n",
                "    {\"item\": \"milk\", \"category\": \"dairy\", \"price\": 1.5, \"quantity\": 2},\r\n",
                "    {\"item\": \"bread\", \"category\": \"bakery\", \"price\": 2.0, \"quantity\": 3},\r\n",
                "]\r\n",
                "\r\n",
                "df = pd.DataFrame(purchases)\r\n",
                "df.info()\r\n",
                "df.head()"
            ],
            "metadata": {
                "azdata_cell_guid": "a0550322-39b2-4fd4-ad86-c719211530df",
                "language": "python"
            },
            "outputs": [
                {
                    "name": "stdout",
                    "text": "<class 'pandas.core.frame.DataFrame'>\nRangeIndex: 4 entries, 0 to 3\nData columns (total 4 columns):\n #   Column    Non-Null Count  Dtype  \n---  ------    --------------  -----  \n 0   item      4 non-null      object \n 1   category  4 non-null      object \n 2   price     4 non-null      float64\n 3   quantity  4 non-null      int64  \ndtypes: float64(1), int64(1), object(2)\nmemory usage: 256.0+ bytes\n",
                    "output_type": "stream"
                },
                {
                    "data": {
                        "text/plain": "     item category  price  quantity\n0   apple    fruit    1.2        10\n1  banana    fruit    0.5         5\n2    milk    dairy    1.5         2\n3   bread   bakery    2.0         3",
                        "text/html": "<div>\n<style scoped>\n    .dataframe tbody tr th:only-of-type {\n        vertical-align: middle;\n    }\n\n    .dataframe tbody tr th {\n        vertical-align: top;\n    }\n\n    .dataframe thead th {\n        text-align: right;\n    }\n</style>\n<table border=\"1\" class=\"dataframe\">\n  <thead>\n    <tr style=\"text-align: right;\">\n      <th></th>\n      <th>item</th>\n      <th>category</th>\n      <th>price</th>\n      <th>quantity</th>\n    </tr>\n  </thead>\n  <tbody>\n    <tr>\n      <th>0</th>\n      <td>apple</td>\n      <td>fruit</td>\n      <td>1.2</td>\n      <td>10</td>\n    </tr>\n    <tr>\n      <th>1</th>\n      <td>banana</td>\n      <td>fruit</td>\n      <td>0.5</td>\n      <td>5</td>\n    </tr>\n    <tr>\n      <th>2</th>\n      <td>milk</td>\n      <td>dairy</td>\n      <td>1.5</td>\n      <td>2</td>\n    </tr>\n    <tr>\n      <th>3</th>\n      <td>bread</td>\n      <td>bakery</td>\n      <td>2.0</td>\n      <td>3</td>\n    </tr>\n  </tbody>\n</table>\n</div>"
                    },
                    "metadata": {},
                    "execution_count": 169,
                    "output_type": "execute_result"
                }
            ],
            "execution_count": 169
        },
        {
            "cell_type": "code",
            "source": [
                "# Задача1: Рассчитайте и верните общую выручку (цена * количество для всех записей)\r\n",
                "# Ответ: 23.5(решение ниже) \r\n",
                "class Rectangle:\r\n",
                "    def __init__(self,purchases):\r\n",
                "        self.a=purchases\r\n",
                "        \r\n",
                "        \r\n",
                "    def mydf(self):\r\n",
                "        df = pd.DataFrame(purchases)\r\n",
                "        return df\r\n",
                "    def total_revenue(purchases):\r\n",
                "        tr = sum(df['price']*df['quantity'])\r\n",
                "        return tr\r\n",
                "\r\n",
                "mc1=Rectangle(purchases)\r\n",
                "#mc1.mydf()\r\n",
                "revv=mc1.total_revenue()\r\n",
                "print(f\"Общая выручка: {revv}\")"
            ],
            "metadata": {
                "language": "python",
                "azdata_cell_guid": "6d425e28-3b1f-4e81-9fb2-dea7e1760470",
                "tags": []
            },
            "outputs": [
                {
                    "name": "stdout",
                    "text": "Общая выручка: 23.5\n",
                    "output_type": "stream"
                }
            ],
            "execution_count": 170
        },
        {
            "cell_type": "code",
            "source": [
                "ptest = df[['category','item']]\r\n",
                "\r\n",
                "ptest.info()\r\n",
                "ptest.head()"
            ],
            "metadata": {
                "language": "python",
                "azdata_cell_guid": "69dea68c-44a1-4c13-8465-432d2a06894c"
            },
            "outputs": [
                {
                    "name": "stdout",
                    "text": "<class 'pandas.core.frame.DataFrame'>\nRangeIndex: 4 entries, 0 to 3\nData columns (total 2 columns):\n #   Column    Non-Null Count  Dtype \n---  ------    --------------  ----- \n 0   category  4 non-null      object\n 1   item      4 non-null      object\ndtypes: object(2)\nmemory usage: 192.0+ bytes\n",
                    "output_type": "stream"
                },
                {
                    "data": {
                        "text/plain": "  category    item\n0    fruit   apple\n1    fruit  banana\n2    dairy    milk\n3   bakery   bread",
                        "text/html": "<div>\n<style scoped>\n    .dataframe tbody tr th:only-of-type {\n        vertical-align: middle;\n    }\n\n    .dataframe tbody tr th {\n        vertical-align: top;\n    }\n\n    .dataframe thead th {\n        text-align: right;\n    }\n</style>\n<table border=\"1\" class=\"dataframe\">\n  <thead>\n    <tr style=\"text-align: right;\">\n      <th></th>\n      <th>category</th>\n      <th>item</th>\n    </tr>\n  </thead>\n  <tbody>\n    <tr>\n      <th>0</th>\n      <td>fruit</td>\n      <td>apple</td>\n    </tr>\n    <tr>\n      <th>1</th>\n      <td>fruit</td>\n      <td>banana</td>\n    </tr>\n    <tr>\n      <th>2</th>\n      <td>dairy</td>\n      <td>milk</td>\n    </tr>\n    <tr>\n      <th>3</th>\n      <td>bakery</td>\n      <td>bread</td>\n    </tr>\n  </tbody>\n</table>\n</div>"
                    },
                    "metadata": {},
                    "execution_count": 171,
                    "output_type": "execute_result"
                }
            ],
            "execution_count": 171
        },
        {
            "cell_type": "code",
            "source": [
                "# Задача2: Верните словарь, где ключ — категория, а значение — список уникальных товаров в этой категории.\r\n",
                "\r\n",
                "\r\n",
                "class my_dict:\r\n",
                "    def __init__(self,purchases):\r\n",
                "        self.a=purchases\r\n",
                "        \r\n",
                "        \r\n",
                "    def mydf(self):\r\n",
                "        df = pd.DataFrame(purchases)\r\n",
                "        ptest = df[['category','item']]\r\n",
                "\r\n",
                "        return df\r\n",
                "    def items_by_category(purchases):\r\n",
                "        mydict = {}\r\n",
                "        for x in range(len(ptest)):\r\n",
                "            currentid = ptest.iloc[x,0]\r\n",
                "            currentvalue = ptest.iloc[x,1]\r\n",
                "            mydict.setdefault(currentid, [])\r\n",
                "            mydict[currentid].append(currentvalue)\r\n",
                "\r\n",
                "        \r\n",
                "        return mydict\r\n",
                "\r\n",
                "mdcr=my_dict(purchases)\r\n",
                "\r\n",
                "mdcr1=mdcr.items_by_category()\r\n",
                "print(f\"Товары по категориям: {mdcr1}\")\r\n",
                ""
            ],
            "metadata": {
                "azdata_cell_guid": "a451050a-d08c-4c22-bc85-13b38bed1727",
                "language": "python",
                "tags": []
            },
            "outputs": [
                {
                    "name": "stdout",
                    "text": "Товары по категориям: {'fruit': ['apple', 'banana'], 'dairy': ['milk'], 'bakery': ['bread']}\n",
                    "output_type": "stream"
                }
            ],
            "execution_count": 172
        },
        {
            "cell_type": "code",
            "source": [
                "# Задача3: Выведите все покупки, где цена товара больше или равна min_price\r\n",
                "\r\n",
                "# Вместо знечений минимальной цены minvar можно ставить любую цифру\r\n",
                "class my_dict:\r\n",
                "    def __init__(self,purchases):\r\n",
                "        self.a=purchases\r\n",
                "        \r\n",
                "        \r\n",
                "    def mydf(self):\r\n",
                "        df = pd.DataFrame(purchases)\r\n",
                "        ptest = df[['category','item']]\r\n",
                "\r\n",
                "        return df\r\n",
                "\r\n",
                "    minvar = 1.0\r\n",
                "    #minvar = df['price'].min()    \r\n",
                "    \r\n",
                "    def expensive_purchases(purchases,minvar):\r\n",
                "        df_mv = df[df['price']>minvar]\r\n",
                "\r\n",
                "        df_mv_v = df_mv.to_dict('split')\r\n",
                "        df_mv_vc=df_mv_v['columns']\r\n",
                "        df_mv_vv=df_mv_v['data']\r\n",
                "        df_mv_vv0 = df_mv_vv[0]\r\n",
                "        df_mv_vv1 = df_mv_vv[1]\r\n",
                "        df_mv_vv2 = df_mv_vv[2]\r\n",
                "\r\n",
                "        dictionary0 = dict(zip(df_mv_vc, df_mv_vv0))\r\n",
                "        dictionary1 = dict(zip(df_mv_vc, df_mv_vv1))\r\n",
                "        dictionary2 = dict(zip(df_mv_vc, df_mv_vv2))\r\n",
                "\r\n",
                "        ml =[]\r\n",
                "        ml.append(dictionary0)\r\n",
                "        ml.append(dictionary1)\r\n",
                "        ml.append(dictionary2)\r\n",
                "        return ml    \r\n",
                "\r\n",
                "mdcr=my_dict(purchases)\r\n",
                "\r\n",
                "mdcr2=mdcr.expensive_purchases(minvar)\r\n",
                "\r\n",
                "print(f\"Покупки дороже {float(minvar)}: {mdcr2}\")"
            ],
            "metadata": {
                "language": "python",
                "azdata_cell_guid": "301c7a2d-b674-4346-a564-dd6b5bff4a60"
            },
            "outputs": [
                {
                    "name": "stdout",
                    "text": "Покупки дороже 1.0: [{'item': 'apple', 'category': 'fruit', 'price': 1.2, 'quantity': 10}, {'item': 'milk', 'category': 'dairy', 'price': 1.5, 'quantity': 2}, {'item': 'bread', 'category': 'bakery', 'price': 2.0, 'quantity': 3}]\n",
                    "output_type": "stream"
                }
            ],
            "execution_count": 173
        },
        {
            "cell_type": "code",
            "source": [
                "# Задача4: Рассчитайте среднюю цену товаров по каждой категории\r\n",
                "import numpy as np\r\n",
                "\r\n",
                "class my_dict:\r\n",
                "    def __init__(self,purchases):\r\n",
                "        self.a=purchases\r\n",
                "        \r\n",
                "        \r\n",
                "    def mydf(self):\r\n",
                "        df = pd.DataFrame(purchases)\r\n",
                "        \r\n",
                "\r\n",
                "        return df\r\n",
                "    def average_price_by_category(purchases):\r\n",
                "        df_av = df.pivot_table(index =\"category\",values=\"price\",aggfunc=np.average).reset_index()\r\n",
                "        df_av = df_av.sort_values(by=\"price\",ascending=True)\r\n",
                "\r\n",
                "        mydict = {}\r\n",
                "        for x in range(len(df_av)):\r\n",
                "            currentid = df_av.iloc[x,0]\r\n",
                "            currentvalue = df_av.iloc[x,1]\r\n",
                "            mydict.setdefault(currentid, [])\r\n",
                "            mydict[currentid].append(currentvalue)\r\n",
                "            d = {k: float(v[0]) for k,v in mydict.items()}\r\n",
                "\r\n",
                "        return d   \r\n",
                "\r\n",
                "\r\n",
                "mdcr=my_dict(purchases)\r\n",
                "\r\n",
                "mdcr3=mdcr.average_price_by_category()\r\n",
                "print(f\"Средняя цена по категориям: {mdcr3}\")\r\n",
                "\r\n",
                "\r\n",
                "\r\n",
                ""
            ],
            "metadata": {
                "language": "python",
                "azdata_cell_guid": "84fcee32-ebbc-466a-83d8-1225fa46cd3c"
            },
            "outputs": [
                {
                    "name": "stdout",
                    "text": "Средняя цена по категориям: {'fruit': 0.85, 'dairy': 1.5, 'bakery': 2.0}\n",
                    "output_type": "stream"
                }
            ],
            "execution_count": 174
        },
        {
            "cell_type": "code",
            "source": [
                "# Задача5: Найдите и верните категорию, в которой куплено больше всего единиц товаров\r\n",
                "\r\n",
                "class my_dict:\r\n",
                "    def __init__(self,purchases):\r\n",
                "        self.a=purchases\r\n",
                "        \r\n",
                "        \r\n",
                "    def mydf(self):\r\n",
                "        df = pd.DataFrame(purchases)\r\n",
                "        \r\n",
                "\r\n",
                "        return df\r\n",
                "    def most_frequent_category(purchases):\r\n",
                "        df_sm = df.pivot_table(index =\"category\",values=\"quantity\",aggfunc=np.sum).reset_index()\r\n",
                "        df_sm = df_sm.sort_values(by=\"quantity\",ascending=False)\r\n",
                "\r\n",
                "        df_sm=df_sm.head(1)\r\n",
                "\r\n",
                "        ctry_mx = df_sm['category'].unique()\r\n",
                "        ctry_mx=ctry_mx[0]\r\n",
                "\r\n",
                "        return ctry_mx   \r\n",
                "\r\n",
                "\r\n",
                "mdcr=my_dict(purchases)\r\n",
                "\r\n",
                "mdcr4=mdcr.most_frequent_category()\r\n",
                "print(f\"Категория с наибольшим количеством проданных товаров: {mdcr4}\")"
            ],
            "metadata": {
                "language": "python",
                "azdata_cell_guid": "eb4c71bc-a5ab-4c41-b8f5-cc7b53058cea",
                "tags": []
            },
            "outputs": [
                {
                    "name": "stdout",
                    "text": "Категория с наибольшим количеством проданных товаров: fruit\n",
                    "output_type": "stream"
                }
            ],
            "execution_count": 175
        },
        {
            "cell_type": "code",
            "source": [
                "print(f\"Общая выручка: {revv}\")\r\n",
                "print(f\"Товары по категориям: {mdcr1}\")\r\n",
                "print(f\"Покупки дороже {float(minvar)}: {mdcr2}\")\r\n",
                "print(f\"Средняя цена по категориям: {mdcr3}\")"
            ],
            "metadata": {
                "azdata_cell_guid": "75395e75-1ffe-4eb1-b729-03b334a60761",
                "language": "python"
            },
            "outputs": [
                {
                    "name": "stdout",
                    "text": "Общая выручка: 23.5\nТовары по категориям: {'fruit': ['apple', 'banana'], 'dairy': ['milk'], 'bakery': ['bread']}\nПокупки дороже 1.0: [{'item': 'apple', 'category': 'fruit', 'price': 1.2, 'quantity': 10}, {'item': 'milk', 'category': 'dairy', 'price': 1.5, 'quantity': 2}, {'item': 'bread', 'category': 'bakery', 'price': 2.0, 'quantity': 3}]\nСредняя цена по категориям: {'fruit': 0.85, 'dairy': 1.5, 'bakery': 2.0}\n",
                    "output_type": "stream"
                }
            ],
            "execution_count": 176
        }
    ]
}