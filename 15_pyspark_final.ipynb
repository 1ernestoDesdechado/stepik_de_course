{
    "metadata": {
        "kernelspec": {
            "name": "python3",
            "display_name": "Python 3 (ipykernel)",
            "language": "python"
        },
        "language_info": {
            "name": "python",
            "version": "3.8.10",
            "mimetype": "text/x-python",
            "codemirror_mode": {
                "name": "ipython",
                "version": 3
            },
            "pygments_lexer": "ipython3",
            "nbconvert_exporter": "python",
            "file_extension": ".py"
        },
        "colab": {
            "provenance": []
        }
    },
    "nbformat_minor": 2,
    "nbformat": 4,
    "cells": [
        {
            "cell_type": "markdown",
            "source": [
                "**Как и оговорено условием задачи, часть кода я удалил, но оставил часть с вызовом pip и импортом библиотек(я строго следую условиям задачи)**"
            ],
            "metadata": {
                "id": "YLs6vsoTM1il",
                "azdata_cell_guid": "0b4aa6bb-642b-43f5-9b33-18539e83f338"
            },
            "attachments": {}
        },
        {
            "cell_type": "code",
            "source": [
                "pip --version\r\n",
                "pip install pyspark\r\n",
                "pip install faker"
            ],
            "metadata": {
                "colab": {
                    "base_uri": "https://localhost:8080/"
                },
                "id": "WwA7D77o-0qa",
                "outputId": "abe1b4c9-dcc1-4094-b56b-80f0bb370df0",
                "azdata_cell_guid": "2d14b151-23b9-487c-bb55-f96f30998d35",
                "language": "python"
            },
            "outputs": [
                {
                    "output_type": "stream",
                    "name": "stdout",
                    "text": "pip 24.1.2 from /usr/local/lib/python3.10/dist-packages/pip (python 3.10)\n"
                }
            ],
            "execution_count": 1
        },
        {
            "cell_type": "code",
            "source": [
                "# импортирую необходимые библиотеки в одном блоке\r\n",
                "from pyspark.sql import SparkSession\r\n",
                "import pyspark.sql.functions as F\r\n",
                "from pyspark.sql.functions import col, to_date"
            ],
            "metadata": {
                "id": "PsIVwKPY_Nqn",
                "colab": {
                    "base_uri": "https://localhost:8080/"
                },
                "outputId": "cb366a33-481f-480c-aae0-d5b1ec560d0e",
                "azdata_cell_guid": "346c1659-022c-4ba1-8bcf-df8d44eb75d2",
                "language": "python"
            },
            "outputs": [
                {
                    "output_type": "stream",
                    "name": "stdout",
                    "text": "Requirement already satisfied: pyspark in /usr/local/lib/python3.10/dist-packages (3.5.3)\nRequirement already satisfied: py4j==0.10.9.7 in /usr/local/lib/python3.10/dist-packages (from pyspark) (0.10.9.7)\n"
                }
            ],
            "execution_count": 2
        },
        {
            "cell_type": "code",
            "source": [
                "\n",
                "# Создание SparkSession\n",
                "spark = SparkSession.builder.appName(\"Read CSV Example\").getOrCreate()\n",
                "\n",
                "# Чтение CSV-файла\n",
                "df = spark.read.csv(\"web_server_logs.csv\", header=True, inferSchema=True)\n",
                "\n",
                "# Печать схемы DataFrame\n",
                "df.printSchema()\n",
                "\n",
                "# Показ первых 5 строк\n",
                "df.show(5)"
            ],
            "metadata": {
                "id": "14Z2tR5p2sNH",
                "colab": {
                    "base_uri": "https://localhost:8080/"
                },
                "outputId": "61d5ddc4-996e-450d-afff-ab7c04335686",
                "azdata_cell_guid": "ee15c937-53c1-4c5d-bae9-64ffcd95e921",
                "language": "python"
            },
            "outputs": [
                {
                    "output_type": "stream",
                    "name": "stdout",
                    "text": "root\n |-- ip: string (nullable = true)\n |-- timestamp: timestamp (nullable = true)\n |-- method: string (nullable = true)\n |-- url: string (nullable = true)\n |-- response_code: integer (nullable = true)\n |-- response_size: integer (nullable = true)\n\n+---------------+--------------------+------+--------------------+-------------+-------------+\n|             ip|           timestamp|method|                 url|response_code|response_size|\n+---------------+--------------------+------+--------------------+-------------+-------------+\n|  14.69.254.151|2025-01-05 21:22:...|   GET|wp-content/tag/ca...|          404|         5939|\n|132.238.192.133|2025-01-02 12:31:...|DELETE|   tags/list/explore|          404|         8304|\n| 36.155.231.139|2025-01-02 07:37:...|DELETE|      main/blog/tags|          200|         8370|\n| 104.221.81.249|2025-01-02 06:06:...|  POST|                main|          301|         5746|\n|  108.73.51.230|2025-01-05 21:55:...|  POST|        tag/category|          404|         6075|\n+---------------+--------------------+------+--------------------+-------------+-------------+\nonly showing top 5 rows\n\n"
                }
            ],
            "execution_count": 5
        },
        {
            "cell_type": "code",
            "source": [
                "# Решаю пункт 1(подсчет по ip), соритрую по убыванию\n",
                "df.groupBy(\"ip\").agg(F.count(\"ip\").alias(\"request_count\")).sort(\"request_count\", ascending=False).show(10)\n",
                ""
            ],
            "metadata": {
                "id": "4aXovCD124vf",
                "colab": {
                    "base_uri": "https://localhost:8080/"
                },
                "outputId": "3d912595-67d2-4e22-dd8a-3179c764b572",
                "azdata_cell_guid": "59426e8e-c404-41f8-9374-fb1612411c41",
                "language": "python"
            },
            "outputs": [
                {
                    "output_type": "stream",
                    "name": "stdout",
                    "text": "+---------------+-------------+\n|             ip|request_count|\n+---------------+-------------+\n| 208.37.170.254|            2|\n|    9.89.69.181|            2|\n|125.232.117.134|            1|\n|  145.100.95.96|            1|\n| 55.184.149.115|            1|\n|   22.96.187.25|            1|\n|203.102.191.157|            1|\n|  28.80.144.151|            1|\n|175.247.215.122|            1|\n| 177.120.78.127|            1|\n+---------------+-------------+\nonly showing top 10 rows\n\n"
                }
            ],
            "execution_count": 16
        },
        {
            "cell_type": "code",
            "source": [
                "# Решаю пункт 2(подсчет по методу), соритрую по убыванию\r\n",
                "df.groupBy(\"method\").agg(F.count(\"method\").alias(\"method_count\")).sort(\"method_count\",ascending=False).show()"
            ],
            "metadata": {
                "id": "OuTTZ6tO244g",
                "colab": {
                    "base_uri": "https://localhost:8080/"
                },
                "outputId": "193e1dc9-b370-4df2-a0ba-76a9aa739833",
                "azdata_cell_guid": "50b8271e-42d9-4138-b4d8-cdefd57fa732",
                "language": "python"
            },
            "outputs": [
                {
                    "output_type": "stream",
                    "name": "stdout",
                    "text": "+------+------------+\n|method|method_count|\n+------+------------+\n|   PUT|       25256|\n|  POST|       25004|\n|   GET|       24960|\n|DELETE|       24780|\n+------+------------+\n\n"
                }
            ],
            "execution_count": 19
        },
        {
            "cell_type": "code",
            "source": [
                "# Решаю п.3: Профильтруйте и посчитайте количество запросов с кодом ответа 404\n",
                "mvar = df.select('response_code').where(df.response_code == 404).count()\n",
                "print(f\"Number of 404 response codes:{mvar}\")\n",
                ""
            ],
            "metadata": {
                "colab": {
                    "base_uri": "https://localhost:8080/"
                },
                "id": "3ZNqSzCB_8gJ",
                "outputId": "d5ebfc12-9fc6-4203-cb37-e0b2d55d637f",
                "azdata_cell_guid": "6cca6150-8616-4ef1-8f4b-b83994de3de2",
                "language": "python"
            },
            "outputs": [
                {
                    "output_type": "stream",
                    "name": "stdout",
                    "text": "Number of 404 response codes:25231\n"
                }
            ],
            "execution_count": 22
        },
        {
            "cell_type": "code",
            "source": [
                "# Решаю п.4:  Сгруппируйте данные по дате и просуммируйте размер ответов, сортируйте по дате.\n",
                "\n",
                "df = df.withColumn('date', to_date(col('timestamp')))\n",
                "df.groupBy(\"date\").agg(F.sum(\"response_size\").alias(\"total_response_size\")).sort(\"date\",ascending=True).show()\n",
                ""
            ],
            "metadata": {
                "id": "82rQsMi8Agya",
                "colab": {
                    "base_uri": "https://localhost:8080/"
                },
                "outputId": "332c9cf4-934c-4b64-b0c4-de19b52a1db3",
                "azdata_cell_guid": "7c7c7785-58c8-4851-861f-b9ab0a17ae55",
                "language": "python"
            },
            "outputs": [
                {
                    "output_type": "stream",
                    "name": "stdout",
                    "text": "+----------+-------------------+\n|      date|total_response_size|\n+----------+-------------------+\n|2025-01-01|           73942369|\n|2025-01-02|           72358989|\n|2025-01-03|           74089472|\n|2025-01-04|           73588518|\n|2025-01-05|           73417217|\n|2025-01-06|           73521589|\n|2025-01-07|           66055545|\n+----------+-------------------+\n\n"
                }
            ],
            "execution_count": 28
        }
    ]
}